{
 "cells": [
  {
   "cell_type": "markdown",
   "id": "4111d645",
   "metadata": {},
   "source": [
    "### Question 3\n",
    "\n",
    "Using the spreadsheet with the consolidated COVID data that you can download from the page A Line Chart in Python, create a visualization that shows the moving average and the number of daily cases for Hillsborough.  The moving average should be in a column chart and the number of daily cases should be in a line graph.  Make sure you use suitable colors for both "
   ]
  },
  {
   "cell_type": "code",
   "execution_count": 236,
   "id": "8dcb0fe7",
   "metadata": {},
   "outputs": [],
   "source": [
    "import pandas as pd\n",
    "import numpy as np\n",
    "import matplotlib.pyplot as plt\n",
    "from datetime import datetime"
   ]
  },
  {
   "cell_type": "code",
   "execution_count": 191,
   "id": "a5621527",
   "metadata": {},
   "outputs": [],
   "source": [
    "df2 = pd.read_csv('Hillsborough.csv')"
   ]
  },
  {
   "cell_type": "code",
   "execution_count": 192,
   "id": "130ce5e0",
   "metadata": {},
   "outputs": [
    {
     "data": {
      "text/html": [
       "<div>\n",
       "<style scoped>\n",
       "    .dataframe tbody tr th:only-of-type {\n",
       "        vertical-align: middle;\n",
       "    }\n",
       "\n",
       "    .dataframe tbody tr th {\n",
       "        vertical-align: top;\n",
       "    }\n",
       "\n",
       "    .dataframe thead th {\n",
       "        text-align: right;\n",
       "    }\n",
       "</style>\n",
       "<table border=\"1\" class=\"dataframe\">\n",
       "  <thead>\n",
       "    <tr style=\"text-align: right;\">\n",
       "      <th></th>\n",
       "      <th>Unnamed: 0</th>\n",
       "      <th>Hillsborough</th>\n",
       "      <th>Moving Average Hillsborough along Day of Event Date</th>\n",
       "    </tr>\n",
       "  </thead>\n",
       "  <tbody>\n",
       "    <tr>\n",
       "      <th>0</th>\n",
       "      <td>March 1, 2020</td>\n",
       "      <td>2</td>\n",
       "      <td>2</td>\n",
       "    </tr>\n",
       "    <tr>\n",
       "      <th>1</th>\n",
       "      <td>March 3, 2020</td>\n",
       "      <td>2</td>\n",
       "      <td>2</td>\n",
       "    </tr>\n",
       "    <tr>\n",
       "      <th>2</th>\n",
       "      <td>March 4, 2020</td>\n",
       "      <td>1</td>\n",
       "      <td>2</td>\n",
       "    </tr>\n",
       "    <tr>\n",
       "      <th>3</th>\n",
       "      <td>March 5, 2020</td>\n",
       "      <td>3</td>\n",
       "      <td>2</td>\n",
       "    </tr>\n",
       "    <tr>\n",
       "      <th>4</th>\n",
       "      <td>March 6, 2020</td>\n",
       "      <td>3</td>\n",
       "      <td>2</td>\n",
       "    </tr>\n",
       "  </tbody>\n",
       "</table>\n",
       "</div>"
      ],
      "text/plain": [
       "      Unnamed: 0 Hillsborough  \\\n",
       "0  March 1, 2020            2   \n",
       "1  March 3, 2020            2   \n",
       "2  March 4, 2020            1   \n",
       "3  March 5, 2020            3   \n",
       "4  March 6, 2020            3   \n",
       "\n",
       "   Moving Average Hillsborough along Day of Event Date  \n",
       "0                                                  2    \n",
       "1                                                  2    \n",
       "2                                                  2    \n",
       "3                                                  2    \n",
       "4                                                  2    "
      ]
     },
     "execution_count": 192,
     "metadata": {},
     "output_type": "execute_result"
    }
   ],
   "source": [
    "df2.head()"
   ]
  },
  {
   "cell_type": "code",
   "execution_count": 193,
   "id": "0ecc944f",
   "metadata": {},
   "outputs": [],
   "source": [
    "df2 = df2.rename(columns={'Unnamed: 0': 'Date'})\n",
    "df2 = df2.rename(columns={'Hillsborough': 'Daily Cases'})\n",
    "df2 = df2.rename(columns={'Moving Average Hillsborough along Day of Event Date': 'Moving Average'})"
   ]
  },
  {
   "cell_type": "code",
   "execution_count": 194,
   "id": "c36310e2",
   "metadata": {
    "scrolled": true
   },
   "outputs": [
    {
     "data": {
      "text/html": [
       "<div>\n",
       "<style scoped>\n",
       "    .dataframe tbody tr th:only-of-type {\n",
       "        vertical-align: middle;\n",
       "    }\n",
       "\n",
       "    .dataframe tbody tr th {\n",
       "        vertical-align: top;\n",
       "    }\n",
       "\n",
       "    .dataframe thead th {\n",
       "        text-align: right;\n",
       "    }\n",
       "</style>\n",
       "<table border=\"1\" class=\"dataframe\">\n",
       "  <thead>\n",
       "    <tr style=\"text-align: right;\">\n",
       "      <th></th>\n",
       "      <th>Date</th>\n",
       "      <th>Daily Cases</th>\n",
       "      <th>Moving Average</th>\n",
       "    </tr>\n",
       "  </thead>\n",
       "  <tbody>\n",
       "    <tr>\n",
       "      <th>0</th>\n",
       "      <td>March 1, 2020</td>\n",
       "      <td>2</td>\n",
       "      <td>2</td>\n",
       "    </tr>\n",
       "    <tr>\n",
       "      <th>1</th>\n",
       "      <td>March 3, 2020</td>\n",
       "      <td>2</td>\n",
       "      <td>2</td>\n",
       "    </tr>\n",
       "    <tr>\n",
       "      <th>2</th>\n",
       "      <td>March 4, 2020</td>\n",
       "      <td>1</td>\n",
       "      <td>2</td>\n",
       "    </tr>\n",
       "    <tr>\n",
       "      <th>3</th>\n",
       "      <td>March 5, 2020</td>\n",
       "      <td>3</td>\n",
       "      <td>2</td>\n",
       "    </tr>\n",
       "    <tr>\n",
       "      <th>4</th>\n",
       "      <td>March 6, 2020</td>\n",
       "      <td>3</td>\n",
       "      <td>2</td>\n",
       "    </tr>\n",
       "  </tbody>\n",
       "</table>\n",
       "</div>"
      ],
      "text/plain": [
       "            Date Daily Cases  Moving Average\n",
       "0  March 1, 2020           2               2\n",
       "1  March 3, 2020           2               2\n",
       "2  March 4, 2020           1               2\n",
       "3  March 5, 2020           3               2\n",
       "4  March 6, 2020           3               2"
      ]
     },
     "execution_count": 194,
     "metadata": {},
     "output_type": "execute_result"
    }
   ],
   "source": [
    "df2.head()"
   ]
  },
  {
   "cell_type": "code",
   "execution_count": 195,
   "id": "f78f0d6e",
   "metadata": {
    "scrolled": true
   },
   "outputs": [
    {
     "data": {
      "text/plain": [
       "Date              object\n",
       "Daily Cases       object\n",
       "Moving Average     int64\n",
       "dtype: object"
      ]
     },
     "execution_count": 195,
     "metadata": {},
     "output_type": "execute_result"
    }
   ],
   "source": [
    "df2.dtypes"
   ]
  },
  {
   "cell_type": "code",
   "execution_count": 196,
   "id": "aa5a3e0b",
   "metadata": {
    "scrolled": true
   },
   "outputs": [],
   "source": [
    "df2['Daily Cases'] = df2['Daily Cases'].str.replace(',', '').astype('int64')\n",
    "df2['Moving Average'] = df2['Moving Average'].astype(float)"
   ]
  },
  {
   "cell_type": "code",
   "execution_count": 197,
   "id": "f2ef4f88",
   "metadata": {
    "scrolled": true
   },
   "outputs": [
    {
     "data": {
      "text/plain": [
       "Date               object\n",
       "Daily Cases         int64\n",
       "Moving Average    float64\n",
       "dtype: object"
      ]
     },
     "execution_count": 197,
     "metadata": {},
     "output_type": "execute_result"
    }
   ],
   "source": [
    "df2.dtypes"
   ]
  },
  {
   "cell_type": "code",
   "execution_count": 211,
   "id": "5c80cbdd",
   "metadata": {},
   "outputs": [
    {
     "data": {
      "text/plain": [
       "<matplotlib.legend.Legend at 0x1fcdaf2eb20>"
      ]
     },
     "execution_count": 211,
     "metadata": {},
     "output_type": "execute_result"
    },
    {
     "data": {
      "image/png": "[encoded data removed]",
      "text/plain": [
       "<Figure size 640x480 with 1 Axes>"
      ]
     },
     "metadata": {},
     "output_type": "display_data"
    }
   ],
   "source": [
    "axes = df2.plot('Date',['Daily Cases'], xticks =[], c = 'red')\n",
    "df2.plot('Date',['Moving Average'],xticks =[], kind = 'bar', width =0.5, ax = axes)\n",
    "\n",
    "plt.xlabel('Date')\n",
    "plt.ylabel('Moving Average')\n",
    "plt.title('Daily Cases and Moving Average for Hillsborough')\n",
    "plt.legend()\n"
   ]
  }
 ],
 "metadata": {
  "kernelspec": {
   "display_name": "Python 3 (ipykernel)",
   "language": "python",
   "name": "python3"
  },
  "language_info": {
   "codemirror_mode": {
    "name": "ipython",
    "version": 3
   },
   "file_extension": ".py",
   "mimetype": "text/x-python",
   "name": "python",
   "nbconvert_exporter": "python",
   "pygments_lexer": "ipython3",
   "version": "3.9.13"
  }
 },
 "nbformat": 4,
 "nbformat_minor": 5
}
